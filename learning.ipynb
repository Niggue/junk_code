{
 "cells": [
  {
   "cell_type": "markdown",
   "metadata": {},
   "source": [
    "# Learning Python"
   ]
  },
  {
   "cell_type": "markdown",
   "metadata": {},
   "source": [
    "### Data types"
   ]
  },
  {
   "cell_type": "code",
   "execution_count": 102,
   "metadata": {},
   "outputs": [
    {
     "name": "stdout",
     "output_type": "stream",
     "text": [
      "[5, 11]\n"
     ]
    }
   ],
   "source": [
    "# numeric\n",
    "import numpy\n",
    "import sys\n",
    "import pandas\n",
    "\n",
    "x = 12              # int\n",
    "y = 0.1544917       # float\n",
    "z = 0.164843241984  # double\n",
    "\n",
    "# alphabeticals\n",
    "x = 'j'                     # char\n",
    "s = 'Migue es la hostia'    # strings\n",
    "\n",
    "# lists\n",
    "ls = [10, 5, 5]             # numerical list\n",
    "lss = ['x', 10, 'el migue'] # mixed list\n",
    "\n",
    "# tuplas\n",
    "tp = (1, 5)                 # tuples of ints\n",
    "\n",
    "# sets\n",
    "st = set(ls)             # set from the list ´ls´\n",
    "\n",
    "# dictiionaries\n",
    "dic = {'x1':[5, 40, 7], 'x2':[1, 2, 3, 4]}    # dictionary of email account\n",
    "\n",
    "\n",
    "# usage of each one\n",
    "\n",
    "ls[2] = 11                  # this is the way to asssign number into a list\n",
    "# tp[0] = 5                   # tuples can't be modified\n",
    "st                          # sets doen's support duplicates items\n",
    "print(ls[1:])                  #let's print the coolest feature of python"
   ]
  },
  {
   "cell_type": "markdown",
   "metadata": {},
   "source": [
    "## Operations with variables"
   ]
  },
  {
   "cell_type": "code",
   "execution_count": 103,
   "metadata": {},
   "outputs": [
    {
     "name": "stdout",
     "output_type": "stream",
     "text": [
      "17\n",
      "3\n",
      "-9\n"
     ]
    }
   ],
   "source": [
    "# adding\n",
    "x, y = 10, 7\n",
    "# x = 10\n",
    "# y = 7\n",
    "print(x + y)\n",
    "\n",
    "s = 'string not operable'\n",
    "# substracting\n",
    "print(x - y)\n",
    "print(x - len(s))\n",
    "\n",
    "# * mutiplication, / division, ** square math.sqrt(x), ( square root )"
   ]
  },
  {
   "cell_type": "markdown",
   "metadata": {},
   "source": [
    "## Functions"
   ]
  },
  {
   "cell_type": "code",
   "execution_count": 104,
   "metadata": {},
   "outputs": [
    {
     "name": "stdout",
     "output_type": "stream",
     "text": [
      "10\n"
     ]
    }
   ],
   "source": [
    "def multiply_all(arg0, arg1=1, arg2=0):\n",
    "    result = arg0 * arg1 + arg2\n",
    "    return result\n",
    "\n",
    "yuca = multiply_all(10)\n",
    "print(yuca)"
   ]
  },
  {
   "cell_type": "markdown",
   "metadata": {},
   "source": [
    "## Classes OOP"
   ]
  },
  {
   "cell_type": "code",
   "execution_count": 125,
   "metadata": {},
   "outputs": [
    {
     "name": "stdout",
     "output_type": "stream",
     "text": [
      "wau wau\n"
     ]
    }
   ],
   "source": [
    "x = numpy.array([[1, 2, 3], [3, 5, 6]])\n",
    "\n",
    "class animal():\n",
    "    def __init__(self, patas, ocico):\n",
    "        self.patas = patas\n",
    "        self.ocico = ocico\n",
    "    \n",
    "class perrito(animal):\n",
    "    def ladrar(self):\n",
    "        print('wau wau')\n",
    "    \n",
    "flor = perrito(5, 2)\n",
    "\n",
    "flor.ladrar()\n",
    "flor.patas += 3\n",
    "flor.patas\n",
    "\n",
    "otro_objeto = perrito(6, 6)\n",
    "\n",
    "\n"
   ]
  },
  {
   "cell_type": "code",
   "execution_count": 112,
   "metadata": {},
   "outputs": [
    {
     "name": "stdout",
     "output_type": "stream",
     "text": [
      "Python is awesome and also has A\n",
      "A is 10 and B is >20 and C is 1\n"
     ]
    }
   ],
   "source": [
    "lang = \"Python\"\n",
    "titles = 10\n",
    "\n",
    "print('%(lang)s is awesome and also has %(num)X' %\n",
    "      {'lang':lang,\n",
    "       'num':titles})\n",
    "\n",
    "print('A is {0} and B is {1} and C is {2}'.format(10, 20, 1))"
   ]
  }
 ],
 "metadata": {
  "kernelspec": {
   "display_name": "Python 3.10.4 64-bit",
   "language": "python",
   "name": "python3"
  },
  "language_info": {
   "codemirror_mode": {
    "name": "ipython",
    "version": 3
   },
   "file_extension": ".py",
   "mimetype": "text/x-python",
   "name": "python",
   "nbconvert_exporter": "python",
   "pygments_lexer": "ipython3",
   "version": "3.10.4"
  },
  "orig_nbformat": 4,
  "vscode": {
   "interpreter": {
    "hash": "4ef47ba535d951ec0ed29a879fa9fd95b4ce395f6fc6ba054ed27e7d9b56d250"
   }
  }
 },
 "nbformat": 4,
 "nbformat_minor": 2
}
